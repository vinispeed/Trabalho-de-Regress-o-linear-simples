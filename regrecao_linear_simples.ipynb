{
 "cells": [
  {
   "cell_type": "code",
   "execution_count": 45,
   "id": "8c00e5db",
   "metadata": {},
   "outputs": [],
   "source": [
    "# Importação da bibliotecas que seram utilizadas no projeto\n",
    "\n",
    "import pandas as pd\n",
    "import numpy as np\n",
    "import matplotlib.pyplot as plt\n",
    "import seaborn as sns\n",
    "from sklearn.model_selection import train_test_split\n",
    "from sklearn.linear_model import LinearRegression\n",
    " "
   ]
  },
  {
   "cell_type": "code",
   "execution_count": 46,
   "id": "bd6603e8",
   "metadata": {},
   "outputs": [
    {
     "data": {
      "text/plain": [
       "<bound method NDFrame.head of        sexo  idade  experiencia  escolaridade       salario\n",
       "0     Homem     49           33            12  76058.935879\n",
       "1     Homem     49           33             9  75116.620159\n",
       "2     Homem     44           11             8  52445.074167\n",
       "3    Mulher     35           36            19  56891.606445\n",
       "4     Homem     43           10            11  47646.556098\n",
       "..      ...    ...          ...           ...           ...\n",
       "195   Homem     25           28            17  58237.358911\n",
       "196   Homem     35            6            16  37909.002304\n",
       "197  Mulher     34            9            10  49687.356581\n",
       "198   Homem     38           33            20  59944.807820\n",
       "199  Mulher     22           19            13  45735.122344\n",
       "\n",
       "[200 rows x 5 columns]>"
      ]
     },
     "execution_count": 46,
     "metadata": {},
     "output_type": "execute_result"
    }
   ],
   "source": [
    "# Importando a base de tados\n",
    "\n",
    "\n",
    "df = pd.read_csv('dados_regressao.csv')\n",
    "df.head\n"
   ]
  },
  {
   "cell_type": "markdown",
   "id": "18493254",
   "metadata": {},
   "source": [
    "### **1. Exploração Inicial dos Dados**"
   ]
  },
  {
   "cell_type": "markdown",
   "id": "10d9def0",
   "metadata": {},
   "source": [
    "Temos nesse data frame 200 linhas e 5 colunas"
   ]
  },
  {
   "cell_type": "markdown",
   "id": "4d7fef2c",
   "metadata": {},
   "source": [
    "Resumo estatístico das variáveis"
   ]
  },
  {
   "cell_type": "code",
   "execution_count": 47,
   "id": "d5f72949",
   "metadata": {},
   "outputs": [
    {
     "data": {
      "text/html": [
       "<div>\n",
       "<style scoped>\n",
       "    .dataframe tbody tr th:only-of-type {\n",
       "        vertical-align: middle;\n",
       "    }\n",
       "\n",
       "    .dataframe tbody tr th {\n",
       "        vertical-align: top;\n",
       "    }\n",
       "\n",
       "    .dataframe thead th {\n",
       "        text-align: right;\n",
       "    }\n",
       "</style>\n",
       "<table border=\"1\" class=\"dataframe\">\n",
       "  <thead>\n",
       "    <tr style=\"text-align: right;\">\n",
       "      <th></th>\n",
       "      <th>idade</th>\n",
       "      <th>experiencia</th>\n",
       "      <th>escolaridade</th>\n",
       "      <th>salario</th>\n",
       "    </tr>\n",
       "  </thead>\n",
       "  <tbody>\n",
       "    <tr>\n",
       "      <th>count</th>\n",
       "      <td>200.000000</td>\n",
       "      <td>200.000000</td>\n",
       "      <td>200.000000</td>\n",
       "      <td>200.000000</td>\n",
       "    </tr>\n",
       "    <tr>\n",
       "      <th>mean</th>\n",
       "      <td>40.380000</td>\n",
       "      <td>20.210000</td>\n",
       "      <td>14.065000</td>\n",
       "      <td>56324.441292</td>\n",
       "    </tr>\n",
       "    <tr>\n",
       "      <th>std</th>\n",
       "      <td>11.349434</td>\n",
       "      <td>11.814985</td>\n",
       "      <td>3.593794</td>\n",
       "      <td>11484.491146</td>\n",
       "    </tr>\n",
       "    <tr>\n",
       "      <th>min</th>\n",
       "      <td>20.000000</td>\n",
       "      <td>1.000000</td>\n",
       "      <td>8.000000</td>\n",
       "      <td>33290.318037</td>\n",
       "    </tr>\n",
       "    <tr>\n",
       "      <th>25%</th>\n",
       "      <td>31.000000</td>\n",
       "      <td>9.000000</td>\n",
       "      <td>11.000000</td>\n",
       "      <td>47972.723059</td>\n",
       "    </tr>\n",
       "    <tr>\n",
       "      <th>50%</th>\n",
       "      <td>41.000000</td>\n",
       "      <td>20.000000</td>\n",
       "      <td>14.000000</td>\n",
       "      <td>56821.152998</td>\n",
       "    </tr>\n",
       "    <tr>\n",
       "      <th>75%</th>\n",
       "      <td>49.000000</td>\n",
       "      <td>30.250000</td>\n",
       "      <td>17.000000</td>\n",
       "      <td>63312.406635</td>\n",
       "    </tr>\n",
       "    <tr>\n",
       "      <th>max</th>\n",
       "      <td>60.000000</td>\n",
       "      <td>40.000000</td>\n",
       "      <td>20.000000</td>\n",
       "      <td>88894.113282</td>\n",
       "    </tr>\n",
       "  </tbody>\n",
       "</table>\n",
       "</div>"
      ],
      "text/plain": [
       "            idade  experiencia  escolaridade       salario\n",
       "count  200.000000   200.000000    200.000000    200.000000\n",
       "mean    40.380000    20.210000     14.065000  56324.441292\n",
       "std     11.349434    11.814985      3.593794  11484.491146\n",
       "min     20.000000     1.000000      8.000000  33290.318037\n",
       "25%     31.000000     9.000000     11.000000  47972.723059\n",
       "50%     41.000000    20.000000     14.000000  56821.152998\n",
       "75%     49.000000    30.250000     17.000000  63312.406635\n",
       "max     60.000000    40.000000     20.000000  88894.113282"
      ]
     },
     "execution_count": 47,
     "metadata": {},
     "output_type": "execute_result"
    }
   ],
   "source": [
    "# Verificando as descrições estatisticas da base de dados\n",
    "\n",
    "df.describe()"
   ]
  },
  {
   "cell_type": "markdown",
   "id": "d54d61dd",
   "metadata": {},
   "source": [
    "Observamos que temos Salarios de 33290,31 a 88894,11 e podemos observar acima a mediana, media, desvio padrão e os quartis. Não foi detectado nenhum comportamento inesperado nos dados. "
   ]
  },
  {
   "cell_type": "code",
   "execution_count": 48,
   "id": "ddacbd91",
   "metadata": {},
   "outputs": [
    {
     "data": {
      "text/plain": [
       "sexo             object\n",
       "idade             int64\n",
       "experiencia       int64\n",
       "escolaridade      int64\n",
       "salario         float64\n",
       "dtype: object"
      ]
     },
     "execution_count": 48,
     "metadata": {},
     "output_type": "execute_result"
    }
   ],
   "source": [
    "df.dtypes"
   ]
  },
  {
   "cell_type": "code",
   "execution_count": 50,
   "id": "063a5e5c",
   "metadata": {},
   "outputs": [
    {
     "data": {
      "text/plain": [
       "sexo            0\n",
       "idade           0\n",
       "experiencia     0\n",
       "escolaridade    0\n",
       "salario         0\n",
       "dtype: int64"
      ]
     },
     "execution_count": 50,
     "metadata": {},
     "output_type": "execute_result"
    }
   ],
   "source": [
    "df.isnull().sum()"
   ]
  },
  {
   "cell_type": "code",
   "execution_count": 51,
   "id": "8268e19d",
   "metadata": {},
   "outputs": [
    {
     "name": "stdout",
     "output_type": "stream",
     "text": [
      "0\n"
     ]
    }
   ],
   "source": [
    "print(df.duplicated().sum())"
   ]
  },
  {
   "cell_type": "markdown",
   "id": "4869493e",
   "metadata": {},
   "source": [
    "Verificamos os tipos dos dados e estão corretos, assim como tambem não tem dados faltantes, e nem duplicados."
   ]
  },
  {
   "cell_type": "markdown",
   "id": "6bf7f99c",
   "metadata": {},
   "source": [
    "### **2. Escolha da Variável Explicativa**"
   ]
  },
  {
   "cell_type": "markdown",
   "id": "3f5d56a3",
   "metadata": {},
   "source": [
    "Criando Graficos de dispersão  do `salario` em função de cada variável explicativa (`idade`, `experiencia`, `escolaridade`)"
   ]
  },
  {
   "cell_type": "code",
   "execution_count": 53,
   "id": "512b84db",
   "metadata": {},
   "outputs": [
    {
     "data": {
      "image/png": "[encoded data removed]",
      "text/plain": [
       "<Figure size 1000x600 with 1 Axes>"
      ]
     },
     "metadata": {},
     "output_type": "display_data"
    },
    {
     "data": {
      "image/png": "[encoded data removed]",
      "text/plain": [
       "<Figure size 1000x600 with 1 Axes>"
      ]
     },
     "metadata": {},
     "output_type": "display_data"
    },
    {
     "data": {
      "image/png": "[encoded data removed]",
      "text/plain": [
       "<Figure size 1000x600 with 1 Axes>"
      ]
     },
     "metadata": {},
     "output_type": "display_data"
    }
   ],
   "source": [
    "# Gráfico de dispersão: Salário vs Idade\n",
    "plt.figure(figsize=(10, 6))\n",
    "sns.scatterplot(x='idade', y='salario', data=df)\n",
    "plt.title('Salário vs Idade')\n",
    "plt.xlabel('Idade')\n",
    "plt.ylabel('Salário')\n",
    "plt.show()\n",
    "\n",
    "# Gráfico de dispersão: Salário vs Experiência\n",
    "plt.figure(figsize=(10, 6))\n",
    "sns.scatterplot(x='experiencia', y='salario', data=df)\n",
    "plt.title('Salário vs Experiência')\n",
    "plt.xlabel('Experiência (anos)')\n",
    "plt.ylabel('Salário')\n",
    "plt.show()\n",
    "\n",
    "# Gráfico de dispersão: Salário vs Escolaridade\n",
    "plt.figure(figsize=(10, 6))\n",
    "sns.scatterplot(x='escolaridade', y='salario', data=df)\n",
    "plt.title('Salário vs Escolaridade')\n",
    "plt.xlabel('Escolaridade (anos)')\n",
    "plt.ylabel('Salário')\n",
    "plt.show()"
   ]
  },
  {
   "cell_type": "markdown",
   "id": "5dfc39b1",
   "metadata": {},
   "source": [
    "Analisando os graficos acima vemos que as variáveis Salário vs Idade tem uma realçao quase linear mas ainda dispersa entre elas, Isso indica que a idade pode ter influência no salário mas não é uma relação perfeitamente linear.\n",
    "\n",
    "Salário vs Experiência parece ser a relação mais linear entre todas variáveis, com isso espera-se que a experiência tenha uma forte correlação com o salário.\n",
    "\n",
    "Salário vs Escolaridade é a relação que aparenta menos linear sendo mais dispersa, embora a escolaridade possa influenciar no salário a relação não é tão direta qanto a experiência.\n",
    "\n",
    "Com Base nos Graficos acima vemos que a variável que aparenta melhor relação linear com a variável salário é a experiência. Por esse motivo a mesma vai ser escolhida  para ser a preditora no modelo de regressão linear simples."
   ]
  },
  {
   "cell_type": "markdown",
   "id": "eed31060",
   "metadata": {},
   "source": [
    "### **3. Ajuste do Modelo de Regressão**"
   ]
  },
  {
   "cell_type": "code",
   "execution_count": 60,
   "id": "a97b9892",
   "metadata": {},
   "outputs": [
    {
     "data": {
      "text/html": [
       "<style>#sk-container-id-3 {\n",
       "  /* Definition of color scheme common for light and dark mode */\n",
       "  --sklearn-color-text: black;\n",
       "  --sklearn-color-line: gray;\n",
       "  /* Definition of color scheme for unfitted estimators */\n",
       "  --sklearn-color-unfitted-level-0: #fff5e6;\n",
       "  --sklearn-color-unfitted-level-1: #f6e4d2;\n",
       "  --sklearn-color-unfitted-level-2: #ffe0b3;\n",
       "  --sklearn-color-unfitted-level-3: chocolate;\n",
       "  /* Definition of color scheme for fitted estimators */\n",
       "  --sklearn-color-fitted-level-0: #f0f8ff;\n",
       "  --sklearn-color-fitted-level-1: #d4ebff;\n",
       "  --sklearn-color-fitted-level-2: #b3dbfd;\n",
       "  --sklearn-color-fitted-level-3: cornflowerblue;\n",
       "\n",
       "  /* Specific color for light theme */\n",
       "  --sklearn-color-text-on-default-background: var(--sg-text-color, var(--theme-code-foreground, var(--jp-content-font-color1, black)));\n",
       "  --sklearn-color-background: var(--sg-background-color, var(--theme-background, var(--jp-layout-color0, white)));\n",
       "  --sklearn-color-border-box: var(--sg-text-color, var(--theme-code-foreground, var(--jp-content-font-color1, black)));\n",
       "  --sklearn-color-icon: #696969;\n",
       "\n",
       "  @media (prefers-color-scheme: dark) {\n",
       "    /* Redefinition of color scheme for dark theme */\n",
       "    --sklearn-color-text-on-default-background: var(--sg-text-color, var(--theme-code-foreground, var(--jp-content-font-color1, white)));\n",
       "    --sklearn-color-background: var(--sg-background-color, var(--theme-background, var(--jp-layout-color0, #111)));\n",
       "    --sklearn-color-border-box: var(--sg-text-color, var(--theme-code-foreground, var(--jp-content-font-color1, white)));\n",
       "    --sklearn-color-icon: #878787;\n",
       "  }\n",
       "}\n",
       "\n",
       "#sk-container-id-3 {\n",
       "  color: var(--sklearn-color-text);\n",
       "}\n",
       "\n",
       "#sk-container-id-3 pre {\n",
       "  padding: 0;\n",
       "}\n",
       "\n",
       "#sk-container-id-3 input.sk-hidden--visually {\n",
       "  border: 0;\n",
       "  clip: rect(1px 1px 1px 1px);\n",
       "  clip: rect(1px, 1px, 1px, 1px);\n",
       "  height: 1px;\n",
       "  margin: -1px;\n",
       "  overflow: hidden;\n",
       "  padding: 0;\n",
       "  position: absolute;\n",
       "  width: 1px;\n",
       "}\n",
       "\n",
       "#sk-container-id-3 div.sk-dashed-wrapped {\n",
       "  border: 1px dashed var(--sklearn-color-line);\n",
       "  margin: 0 0.4em 0.5em 0.4em;\n",
       "  box-sizing: border-box;\n",
       "  padding-bottom: 0.4em;\n",
       "  background-color: var(--sklearn-color-background);\n",
       "}\n",
       "\n",
       "#sk-container-id-3 div.sk-container {\n",
       "  /* jupyter's `normalize.less` sets `[hidden] { display: none; }`\n",
       "     but bootstrap.min.css set `[hidden] { display: none !important; }`\n",
       "     so we also need the `!important` here to be able to override the\n",
       "     default hidden behavior on the sphinx rendered scikit-learn.org.\n",
       "     See: https://github.com/scikit-learn/scikit-learn/issues/21755 */\n",
       "  display: inline-block !important;\n",
       "  position: relative;\n",
       "}\n",
       "\n",
       "#sk-container-id-3 div.sk-text-repr-fallback {\n",
       "  display: none;\n",
       "}\n",
       "\n",
       "div.sk-parallel-item,\n",
       "div.sk-serial,\n",
       "div.sk-item {\n",
       "  /* draw centered vertical line to link estimators */\n",
       "  background-image: linear-gradient(var(--sklearn-color-text-on-default-background), var(--sklearn-color-text-on-default-background));\n",
       "  background-size: 2px 100%;\n",
       "  background-repeat: no-repeat;\n",
       "  background-position: center center;\n",
       "}\n",
       "\n",
       "/* Parallel-specific style estimator block */\n",
       "\n",
       "#sk-container-id-3 div.sk-parallel-item::after {\n",
       "  content: \"\";\n",
       "  width: 100%;\n",
       "  border-bottom: 2px solid var(--sklearn-color-text-on-default-background);\n",
       "  flex-grow: 1;\n",
       "}\n",
       "\n",
       "#sk-container-id-3 div.sk-parallel {\n",
       "  display: flex;\n",
       "  align-items: stretch;\n",
       "  justify-content: center;\n",
       "  background-color: var(--sklearn-color-background);\n",
       "  position: relative;\n",
       "}\n",
       "\n",
       "#sk-container-id-3 div.sk-parallel-item {\n",
       "  display: flex;\n",
       "  flex-direction: column;\n",
       "}\n",
       "\n",
       "#sk-container-id-3 div.sk-parallel-item:first-child::after {\n",
       "  align-self: flex-end;\n",
       "  width: 50%;\n",
       "}\n",
       "\n",
       "#sk-container-id-3 div.sk-parallel-item:last-child::after {\n",
       "  align-self: flex-start;\n",
       "  width: 50%;\n",
       "}\n",
       "\n",
       "#sk-container-id-3 div.sk-parallel-item:only-child::after {\n",
       "  width: 0;\n",
       "}\n",
       "\n",
       "/* Serial-specific style estimator block */\n",
       "\n",
       "#sk-container-id-3 div.sk-serial {\n",
       "  display: flex;\n",
       "  flex-direction: column;\n",
       "  align-items: center;\n",
       "  background-color: var(--sklearn-color-background);\n",
       "  padding-right: 1em;\n",
       "  padding-left: 1em;\n",
       "}\n",
       "\n",
       "\n",
       "/* Toggleable style: style used for estimator/Pipeline/ColumnTransformer box that is\n",
       "clickable and can be expanded/collapsed.\n",
       "- Pipeline and ColumnTransformer use this feature and define the default style\n",
       "- Estimators will overwrite some part of the style using the `sk-estimator` class\n",
       "*/\n",
       "\n",
       "/* Pipeline and ColumnTransformer style (default) */\n",
       "\n",
       "#sk-container-id-3 div.sk-toggleable {\n",
       "  /* Default theme specific background. It is overwritten whether we have a\n",
       "  specific estimator or a Pipeline/ColumnTransformer */\n",
       "  background-color: var(--sklearn-color-background);\n",
       "}\n",
       "\n",
       "/* Toggleable label */\n",
       "#sk-container-id-3 label.sk-toggleable__label {\n",
       "  cursor: pointer;\n",
       "  display: block;\n",
       "  width: 100%;\n",
       "  margin-bottom: 0;\n",
       "  padding: 0.5em;\n",
       "  box-sizing: border-box;\n",
       "  text-align: center;\n",
       "}\n",
       "\n",
       "#sk-container-id-3 label.sk-toggleable__label-arrow:before {\n",
       "  /* Arrow on the left of the label */\n",
       "  content: \"▸\";\n",
       "  float: left;\n",
       "  margin-right: 0.25em;\n",
       "  color: var(--sklearn-color-icon);\n",
       "}\n",
       "\n",
       "#sk-container-id-3 label.sk-toggleable__label-arrow:hover:before {\n",
       "  color: var(--sklearn-color-text);\n",
       "}\n",
       "\n",
       "/* Toggleable content - dropdown */\n",
       "\n",
       "#sk-container-id-3 div.sk-toggleable__content {\n",
       "  max-height: 0;\n",
       "  max-width: 0;\n",
       "  overflow: hidden;\n",
       "  text-align: left;\n",
       "  /* unfitted */\n",
       "  background-color: var(--sklearn-color-unfitted-level-0);\n",
       "}\n",
       "\n",
       "#sk-container-id-3 div.sk-toggleable__content.fitted {\n",
       "  /* fitted */\n",
       "  background-color: var(--sklearn-color-fitted-level-0);\n",
       "}\n",
       "\n",
       "#sk-container-id-3 div.sk-toggleable__content pre {\n",
       "  margin: 0.2em;\n",
       "  border-radius: 0.25em;\n",
       "  color: var(--sklearn-color-text);\n",
       "  /* unfitted */\n",
       "  background-color: var(--sklearn-color-unfitted-level-0);\n",
       "}\n",
       "\n",
       "#sk-container-id-3 div.sk-toggleable__content.fitted pre {\n",
       "  /* unfitted */\n",
       "  background-color: var(--sklearn-color-fitted-level-0);\n",
       "}\n",
       "\n",
       "#sk-container-id-3 input.sk-toggleable__control:checked~div.sk-toggleable__content {\n",
       "  /* Expand drop-down */\n",
       "  max-height: 200px;\n",
       "  max-width: 100%;\n",
       "  overflow: auto;\n",
       "}\n",
       "\n",
       "#sk-container-id-3 input.sk-toggleable__control:checked~label.sk-toggleable__label-arrow:before {\n",
       "  content: \"▾\";\n",
       "}\n",
       "\n",
       "/* Pipeline/ColumnTransformer-specific style */\n",
       "\n",
       "#sk-container-id-3 div.sk-label input.sk-toggleable__control:checked~label.sk-toggleable__label {\n",
       "  color: var(--sklearn-color-text);\n",
       "  background-color: var(--sklearn-color-unfitted-level-2);\n",
       "}\n",
       "\n",
       "#sk-container-id-3 div.sk-label.fitted input.sk-toggleable__control:checked~label.sk-toggleable__label {\n",
       "  background-color: var(--sklearn-color-fitted-level-2);\n",
       "}\n",
       "\n",
       "/* Estimator-specific style */\n",
       "\n",
       "/* Colorize estimator box */\n",
       "#sk-container-id-3 div.sk-estimator input.sk-toggleable__control:checked~label.sk-toggleable__label {\n",
       "  /* unfitted */\n",
       "  background-color: var(--sklearn-color-unfitted-level-2);\n",
       "}\n",
       "\n",
       "#sk-container-id-3 div.sk-estimator.fitted input.sk-toggleable__control:checked~label.sk-toggleable__label {\n",
       "  /* fitted */\n",
       "  background-color: var(--sklearn-color-fitted-level-2);\n",
       "}\n",
       "\n",
       "#sk-container-id-3 div.sk-label label.sk-toggleable__label,\n",
       "#sk-container-id-3 div.sk-label label {\n",
       "  /* The background is the default theme color */\n",
       "  color: var(--sklearn-color-text-on-default-background);\n",
       "}\n",
       "\n",
       "/* On hover, darken the color of the background */\n",
       "#sk-container-id-3 div.sk-label:hover label.sk-toggleable__label {\n",
       "  color: var(--sklearn-color-text);\n",
       "  background-color: var(--sklearn-color-unfitted-level-2);\n",
       "}\n",
       "\n",
       "/* Label box, darken color on hover, fitted */\n",
       "#sk-container-id-3 div.sk-label.fitted:hover label.sk-toggleable__label.fitted {\n",
       "  color: var(--sklearn-color-text);\n",
       "  background-color: var(--sklearn-color-fitted-level-2);\n",
       "}\n",
       "\n",
       "/* Estimator label */\n",
       "\n",
       "#sk-container-id-3 div.sk-label label {\n",
       "  font-family: monospace;\n",
       "  font-weight: bold;\n",
       "  display: inline-block;\n",
       "  line-height: 1.2em;\n",
       "}\n",
       "\n",
       "#sk-container-id-3 div.sk-label-container {\n",
       "  text-align: center;\n",
       "}\n",
       "\n",
       "/* Estimator-specific */\n",
       "#sk-container-id-3 div.sk-estimator {\n",
       "  font-family: monospace;\n",
       "  border: 1px dotted var(--sklearn-color-border-box);\n",
       "  border-radius: 0.25em;\n",
       "  box-sizing: border-box;\n",
       "  margin-bottom: 0.5em;\n",
       "  /* unfitted */\n",
       "  background-color: var(--sklearn-color-unfitted-level-0);\n",
       "}\n",
       "\n",
       "#sk-container-id-3 div.sk-estimator.fitted {\n",
       "  /* fitted */\n",
       "  background-color: var(--sklearn-color-fitted-level-0);\n",
       "}\n",
       "\n",
       "/* on hover */\n",
       "#sk-container-id-3 div.sk-estimator:hover {\n",
       "  /* unfitted */\n",
       "  background-color: var(--sklearn-color-unfitted-level-2);\n",
       "}\n",
       "\n",
       "#sk-container-id-3 div.sk-estimator.fitted:hover {\n",
       "  /* fitted */\n",
       "  background-color: var(--sklearn-color-fitted-level-2);\n",
       "}\n",
       "\n",
       "/* Specification for estimator info (e.g. \"i\" and \"?\") */\n",
       "\n",
       "/* Common style for \"i\" and \"?\" */\n",
       "\n",
       ".sk-estimator-doc-link,\n",
       "a:link.sk-estimator-doc-link,\n",
       "a:visited.sk-estimator-doc-link {\n",
       "  float: right;\n",
       "  font-size: smaller;\n",
       "  line-height: 1em;\n",
       "  font-family: monospace;\n",
       "  background-color: var(--sklearn-color-background);\n",
       "  border-radius: 1em;\n",
       "  height: 1em;\n",
       "  width: 1em;\n",
       "  text-decoration: none !important;\n",
       "  margin-left: 1ex;\n",
       "  /* unfitted */\n",
       "  border: var(--sklearn-color-unfitted-level-1) 1pt solid;\n",
       "  color: var(--sklearn-color-unfitted-level-1);\n",
       "}\n",
       "\n",
       ".sk-estimator-doc-link.fitted,\n",
       "a:link.sk-estimator-doc-link.fitted,\n",
       "a:visited.sk-estimator-doc-link.fitted {\n",
       "  /* fitted */\n",
       "  border: var(--sklearn-color-fitted-level-1) 1pt solid;\n",
       "  color: var(--sklearn-color-fitted-level-1);\n",
       "}\n",
       "\n",
       "/* On hover */\n",
       "div.sk-estimator:hover .sk-estimator-doc-link:hover,\n",
       ".sk-estimator-doc-link:hover,\n",
       "div.sk-label-container:hover .sk-estimator-doc-link:hover,\n",
       ".sk-estimator-doc-link:hover {\n",
       "  /* unfitted */\n",
       "  background-color: var(--sklearn-color-unfitted-level-3);\n",
       "  color: var(--sklearn-color-background);\n",
       "  text-decoration: none;\n",
       "}\n",
       "\n",
       "div.sk-estimator.fitted:hover .sk-estimator-doc-link.fitted:hover,\n",
       ".sk-estimator-doc-link.fitted:hover,\n",
       "div.sk-label-container:hover .sk-estimator-doc-link.fitted:hover,\n",
       ".sk-estimator-doc-link.fitted:hover {\n",
       "  /* fitted */\n",
       "  background-color: var(--sklearn-color-fitted-level-3);\n",
       "  color: var(--sklearn-color-background);\n",
       "  text-decoration: none;\n",
       "}\n",
       "\n",
       "/* Span, style for the box shown on hovering the info icon */\n",
       ".sk-estimator-doc-link span {\n",
       "  display: none;\n",
       "  z-index: 9999;\n",
       "  position: relative;\n",
       "  font-weight: normal;\n",
       "  right: .2ex;\n",
       "  padding: .5ex;\n",
       "  margin: .5ex;\n",
       "  width: min-content;\n",
       "  min-width: 20ex;\n",
       "  max-width: 50ex;\n",
       "  color: var(--sklearn-color-text);\n",
       "  box-shadow: 2pt 2pt 4pt #999;\n",
       "  /* unfitted */\n",
       "  background: var(--sklearn-color-unfitted-level-0);\n",
       "  border: .5pt solid var(--sklearn-color-unfitted-level-3);\n",
       "}\n",
       "\n",
       ".sk-estimator-doc-link.fitted span {\n",
       "  /* fitted */\n",
       "  background: var(--sklearn-color-fitted-level-0);\n",
       "  border: var(--sklearn-color-fitted-level-3);\n",
       "}\n",
       "\n",
       ".sk-estimator-doc-link:hover span {\n",
       "  display: block;\n",
       "}\n",
       "\n",
       "/* \"?\"-specific style due to the `<a>` HTML tag */\n",
       "\n",
       "#sk-container-id-3 a.estimator_doc_link {\n",
       "  float: right;\n",
       "  font-size: 1rem;\n",
       "  line-height: 1em;\n",
       "  font-family: monospace;\n",
       "  background-color: var(--sklearn-color-background);\n",
       "  border-radius: 1rem;\n",
       "  height: 1rem;\n",
       "  width: 1rem;\n",
       "  text-decoration: none;\n",
       "  /* unfitted */\n",
       "  color: var(--sklearn-color-unfitted-level-1);\n",
       "  border: var(--sklearn-color-unfitted-level-1) 1pt solid;\n",
       "}\n",
       "\n",
       "#sk-container-id-3 a.estimator_doc_link.fitted {\n",
       "  /* fitted */\n",
       "  border: var(--sklearn-color-fitted-level-1) 1pt solid;\n",
       "  color: var(--sklearn-color-fitted-level-1);\n",
       "}\n",
       "\n",
       "/* On hover */\n",
       "#sk-container-id-3 a.estimator_doc_link:hover {\n",
       "  /* unfitted */\n",
       "  background-color: var(--sklearn-color-unfitted-level-3);\n",
       "  color: var(--sklearn-color-background);\n",
       "  text-decoration: none;\n",
       "}\n",
       "\n",
       "#sk-container-id-3 a.estimator_doc_link.fitted:hover {\n",
       "  /* fitted */\n",
       "  background-color: var(--sklearn-color-fitted-level-3);\n",
       "}\n",
       "</style><div id=\"sk-container-id-3\" class=\"sk-top-container\"><div class=\"sk-text-repr-fallback\"><pre>LinearRegression()</pre><b>In a Jupyter environment, please rerun this cell to show the HTML representation or trust the notebook. <br />On GitHub, the HTML representation is unable to render, please try loading this page with nbviewer.org.</b></div><div class=\"sk-container\" hidden><div class=\"sk-item\"><div class=\"sk-estimator fitted sk-toggleable\"><input class=\"sk-toggleable__control sk-hidden--visually\" id=\"sk-estimator-id-3\" type=\"checkbox\" checked><label for=\"sk-estimator-id-3\" class=\"sk-toggleable__label fitted sk-toggleable__label-arrow fitted\">&nbsp;&nbsp;LinearRegression<a class=\"sk-estimator-doc-link fitted\" rel=\"noreferrer\" target=\"_blank\" href=\"https://scikit-learn.org/1.4/modules/generated/sklearn.linear_model.LinearRegression.html\">?<span>Documentation for LinearRegression</span></a><span class=\"sk-estimator-doc-link fitted\">i<span>Fitted</span></span></label><div class=\"sk-toggleable__content fitted\"><pre>LinearRegression()</pre></div> </div></div></div></div>"
      ],
      "text/plain": [
       "LinearRegression()"
      ]
     },
     "execution_count": 60,
     "metadata": {},
     "output_type": "execute_result"
    }
   ],
   "source": [
    "# Ajuste do do modelo de regressão linear\n",
    "X = df[['experiencia']]\n",
    "y = df['salario']\n",
    "X_train, X_test, y_train, y_test = train_test_split(X, y, test_size=0.2, random_state=42)\n",
    "model = LinearRegression()\n",
    "model.fit(X_train, y_train)"
   ]
  },
  {
   "cell_type": "code",
   "execution_count": 57,
   "id": "a7cdb53f",
   "metadata": {},
   "outputs": [
    {
     "name": "stdout",
     "output_type": "stream",
     "text": [
      "Coeficientes: [798.71545853]\n",
      "Intercepto: 39985.79630305826\n"
     ]
    }
   ],
   "source": [
    "# coeficientes do modelo\n",
    "coeficientes = model.coef_\n",
    "intercepto = model.intercept_\n",
    "print(f'Coeficientes: {coeficientes}')\n",
    "print(f'Intercepto: {intercepto}')\n",
    "\n"
   ]
  },
  {
   "cell_type": "markdown",
   "id": "f07e8723",
   "metadata": {},
   "source": [
    "O intercepto reflete o salário base para alguém sem experiência. \n",
    "\n",
    "O coeficiente angular reflete a taxa de crescimento do salário em função da experiência.\n",
    "\n",
    "Se os valores forem positivos, isso indica uma relação direta (mais experiência, maior salário). Se forem negativos, indicam uma relação inversa (mais experiência, menor salário, o que seria incomum neste caso)."
   ]
  },
  {
   "cell_type": "markdown",
   "id": "f5aa1358",
   "metadata": {},
   "source": [
    "### **4. Avaliação do Modelo**"
   ]
  },
  {
   "cell_type": "markdown",
   "id": "ee778040",
   "metadata": {},
   "source": [
    "Previsão do Modelo"
   ]
  },
  {
   "cell_type": "code",
   "execution_count": 58,
   "id": "32b89aa3",
   "metadata": {},
   "outputs": [],
   "source": [
    "# previsao do modelo\n",
    "y_pred_test = model.predict(X_test)\n",
    "y_pred_train = model.predict(X_train)"
   ]
  },
  {
   "cell_type": "code",
   "execution_count": 61,
   "id": "918f0823",
   "metadata": {},
   "outputs": [
    {
     "data": {
      "image/png": "[encoded data removed]",
      "text/plain": [
       "<Figure size 1000x600 with 1 Axes>"
      ]
     },
     "metadata": {},
     "output_type": "display_data"
    }
   ],
   "source": [
    "# Plotando a previsão no conjunto de treinamento\n",
    "plt.figure(figsize=(10, 6))\n",
    "plt.scatter(X_train, y_train, color='blue', label='Valores Reais')\n",
    "plt.plot(X_train, y_pred_train, color='red', label='Previsão (Regressão Linear)')\n",
    "plt.title('Previsão no Conjunto de Treinamento')\n",
    "plt.xlabel('Experiência (anos)')\n",
    "plt.ylabel('Salário')\n",
    "plt.legend()\n",
    "plt.show()"
   ]
  },
  {
   "cell_type": "code",
   "execution_count": 62,
   "id": "766291a3",
   "metadata": {},
   "outputs": [
    {
     "name": "stdout",
     "output_type": "stream",
     "text": [
      "Erro Quadrático Médio (EQM): 43609705.02151558\n",
      "Erro Absoluto Médio (MAE): 5413.3482561939045\n",
      "Erro Percentual Absoluto Médio (MAPE): 10.18%\n"
     ]
    }
   ],
   "source": [
    "from sklearn.metrics import mean_squared_error, mean_absolute_error\n",
    "\n",
    "# Cálculo do Erro Quadrático Médio (EQM)\n",
    "eqm = mean_squared_error(y_train, y_pred_train)\n",
    "print(f'Erro Quadrático Médio (EQM): {eqm}')\n",
    "\n",
    "# Cálculo do Erro Absoluto Médio (MAE)\n",
    "mae = mean_absolute_error(y_train, y_pred_train)\n",
    "print(f'Erro Absoluto Médio (MAE): {mae}')\n",
    "\n",
    "# Cálculo do Erro Percentual Absoluto Médio (MAPE)\n",
    "mape = (abs((y_train - y_pred_train) / y_train).mean()) * 100\n",
    "print(f'Erro Percentual Absoluto Médio (MAPE): {mape:.2f}%')"
   ]
  },
  {
   "cell_type": "markdown",
   "id": "0a405ee3",
   "metadata": {},
   "source": [
    "Com base nos valores das métricas fornecidos:\n",
    "\n",
    "Erro Quadrático Médio (EQM): 43.609.705,02\n",
    "\n",
    "Esse valor é relativamente alto, mas eu preciso analisá-lo em relação à escala dos salários. Como os salários variam entre aproximadamente 33.290 e 88.894, considero que o EQM pode ser aceitável, embora indique que há erros significativos em algumas previsões.\n",
    "\n",
    "\n",
    "Erro Absoluto Médio (MAE): 5.413,35\n",
    "\n",
    "Esse valor me mostra que, em média, o modelo erra cerca de R$ 5.413,35 ao prever o salário. Comparado à faixa de salários, considero esse erro moderado, mas ele pode ser significativo dependendo do contexto.\n",
    "\n",
    "\n",
    "Erro Percentual Absoluto Médio (MAPE): 10,18%\n",
    "\n",
    "Um MAPE de 10,18% é, na minha opinião, bom, pois está próximo do limite inferior da faixa aceitável (10% a 20%). Isso me indica que o modelo tem um desempenho razoável na previsão de salários.\n",
    "\n",
    "\n",
    "Considero que o modelo é adequado para prever salario, especialmente considerando o MAPE, que está em um nível aceitável. No entanto, o EQM e o MAE sugerem que o modelo pode ser melhorado. "
   ]
  },
  {
   "cell_type": "markdown",
   "id": "187783c0",
   "metadata": {},
   "source": [
    "### **5. Comparação por Gênero**"
   ]
  },
  {
   "cell_type": "markdown",
   "id": "1a69decf",
   "metadata": {},
   "source": [
    "Ajuste do modelo separado para homens e um para mulheres"
   ]
  },
  {
   "cell_type": "code",
   "execution_count": 63,
   "id": "b06a7331",
   "metadata": {},
   "outputs": [
    {
     "name": "stdout",
     "output_type": "stream",
     "text": [
      "Modelo para Homens: Coeficiente = 733.7730021698885, Intercepto = 41728.85972913705\n",
      "Modelo para Mulheres: Coeficiente = 816.856851770595, Intercepto = 39544.511571352195\n"
     ]
    }
   ],
   "source": [
    "# Separando os dados por gênero\n",
    "df_homens = df[df['sexo'] == 'Homem']\n",
    "df_mulheres = df[df['sexo'] == 'Mulher']\n",
    "\n",
    "# Ajustando o modelo para homens\n",
    "X_homens = df_homens[['experiencia']]\n",
    "y_homens = df_homens['salario']\n",
    "model_homens = LinearRegression()\n",
    "model_homens.fit(X_homens, y_homens)\n",
    "\n",
    "# Ajustando o modelo para mulheres\n",
    "X_mulheres = df_mulheres[['experiencia']]\n",
    "y_mulheres = df_mulheres['salario']\n",
    "model_mulheres = LinearRegression()\n",
    "model_mulheres.fit(X_mulheres, y_mulheres)\n",
    "\n",
    "# Coeficientes dos modelos\n",
    "coef_homens = model_homens.coef_[0]\n",
    "intercepto_homens = model_homens.intercept_\n",
    "coef_mulheres = model_mulheres.coef_[0]\n",
    "intercepto_mulheres = model_mulheres.intercept_\n",
    "\n",
    "# Exibindo os resultados\n",
    "print(f'Modelo para Homens: Coeficiente = {coef_homens}, Intercepto = {intercepto_homens}')\n",
    "print(f'Modelo para Mulheres: Coeficiente = {coef_mulheres}, Intercepto = {intercepto_mulheres}')\n"
   ]
  },
  {
   "cell_type": "markdown",
   "id": "bece8832",
   "metadata": {},
   "source": [
    "Com base nos coeficientes dos modelos ajustados:\n",
    "\n",
    "Modelo para Homens:\n",
    "\n",
    "Coeficiente: 733,77\n",
    "Indica que, para cada ano adicional de experiência, o salário dos homens aumenta, em média, R$ 733,77.\n",
    "\n",
    "Intercepto: 41.728,86\n",
    "Representa o salário base esperado para homens sem experiência.\n",
    "\n",
    "\n",
    "Modelo para Mulheres:\n",
    "\n",
    "Coeficiente: 816,86\n",
    "Indica que, para cada ano adicional de experiência, o salário das mulheres aumenta, em média, R$ 816,86.\n",
    "\n",
    "Intercepto: 39.544,51\n",
    "Representa o salário base esperado para mulheres sem experiência.\n",
    "\n",
    "O coeficiente para mulheres (816,86) é maior do que para homens (733,77), sugerindo que a experiência tem um impacto ligeiramente maior no salário das mulheres.\n",
    "\n",
    "O intercepto para homens (41.728,86) é maior do que para mulheres (39.544,51), indicando que, sem experiência, os homens têm um salário base maior.\n",
    "\n",
    "Embora os coeficientes sejam relativamente próximos, há uma diferença notável no impacto da experiência e no salário base entre homens e mulheres. Isso pode indicar diferenças na forma como a experiência é valorizada ou diferenças estruturais nos salários iniciais entre os dois grupos."
   ]
  },
  {
   "cell_type": "markdown",
   "id": "deee5a44",
   "metadata": {},
   "source": [
    "Comparando os erros (EQM, MAE e MAPE) dos dois modelos"
   ]
  },
  {
   "cell_type": "code",
   "execution_count": 64,
   "id": "f381eece",
   "metadata": {},
   "outputs": [
    {
     "name": "stdout",
     "output_type": "stream",
     "text": [
      "Erros para Homens: EQM = 45056668.46212979, MAE = 5451.537514391026, MAPE = 10.11%\n",
      "Erros para Mulheres: EQM = 49644071.280976504, MAE = 5715.296967292734, MAPE = 10.65%\n"
     ]
    }
   ],
   "source": [
    "# Previsões para homens\n",
    "y_pred_homens = model_homens.predict(X_homens)\n",
    "eqm_homens = mean_squared_error(y_homens, y_pred_homens)\n",
    "mae_homens = mean_absolute_error(y_homens, y_pred_homens)\n",
    "mape_homens = (abs((y_homens - y_pred_homens) / y_homens).mean()) * 100\n",
    "\n",
    "# Previsões para mulheres\n",
    "y_pred_mulheres = model_mulheres.predict(X_mulheres)\n",
    "eqm_mulheres = mean_squared_error(y_mulheres, y_pred_mulheres)\n",
    "mae_mulheres = mean_absolute_error(y_mulheres, y_pred_mulheres)\n",
    "mape_mulheres = (abs((y_mulheres - y_pred_mulheres) / y_mulheres).mean()) * 100\n",
    "\n",
    "# Exibindo os resultados\n",
    "print(f'Erros para Homens: EQM = {eqm_homens}, MAE = {mae_homens}, MAPE = {mape_homens:.2f}%')\n",
    "print(f'Erros para Mulheres: EQM = {eqm_mulheres}, MAE = {mae_mulheres}, MAPE = {mape_mulheres:.2f}%')"
   ]
  },
  {
   "cell_type": "markdown",
   "id": "b0810fc2",
   "metadata": {},
   "source": [
    "Com base nos erros calculados para os dois modelos:\n",
    "\n",
    "Erros para Homens:\n",
    "EQM: 45.056.668,46\n",
    "MAE: 5.451,54\n",
    "MAPE: 10,11%\n",
    "\n",
    "Erros para Mulheres:\n",
    "EQM: 49.644.071,28\n",
    "MAE: 5.715,30\n",
    "MAPE: 10,65%\n",
    "\n",
    "EQM: O modelo para homens apresenta um EQM menor (45.056.668,46 contra 49.644.071,28), indicando que as previsões para homens têm erros quadráticos ligeiramente menores.\n",
    "\n",
    "MAE: O modelo para homens também tem um MAE menor (5.451,54 contra 5.715,30), sugerindo que, em média, os erros absolutos são menores para homens.\n",
    "\n",
    "MAPE: O modelo para homens apresenta um MAPE menor (10,11% contra 10,65%), indicando que as previsões para homens são ligeiramente mais precisas em termos percentuais.\n",
    "\n",
    "O modelo para homens tem previsões mais precisas em comparação ao modelo para mulheres, com erros ligeiramente menores em todas as métricas (EQM, MAE e MAPE). No entanto, as diferenças não são muito significativas, sugerindo que ambos os modelos têm desempenhos semelhantes."
   ]
  },
  {
   "cell_type": "markdown",
   "id": "80a6bf19",
   "metadata": {},
   "source": [
    "### **6. Interpretação e Conclusões**"
   ]
  },
  {
   "cell_type": "markdown",
   "id": "aeab7649",
   "metadata": {},
   "source": [
    "Com base na análise realizada, a variável **`experiencia`** parece ser um bom preditor do `salario`, mas com algumas limitações:\n",
    "\n",
    "### Pontos a favor:\n",
    "**Correlação Linear**:\n",
    "   A análise gráfica mostrou que a relação entre `experiencia` e `salario` é quase linear, o que justifica o uso da regressão linear simples.\n",
    "   \n",
    "**MAPE**:\n",
    "   O MAPE para ambos os modelos (10,11% para homens e 10,65% para mulheres) está dentro da faixa aceitável (10% a 20%), indicando que o modelo tem um desempenho razoável.\n",
    "\n",
    "**Coeficientes**:\n",
    "   Os coeficientes positivos indicam que a experiência tem um impacto direto no aumento do salário, o que faz sentido no contexto.\n",
    "\n",
    "### Limitações:\n",
    "**Erro Absoluto Médio (MAE)**:\n",
    "   O MAE (cerca de R$ 5.400 para homens e R$ 5.700 para mulheres) é relativamente alto em relação à faixa de salários (R$ 33.290 a R$ 88.894), indicando que o modelo pode não capturar toda a variabilidade dos dados.\n",
    "\n",
    "**Erro Quadrático Médio (EQM)**:\n",
    "   O EQM elevado sugere que há erros significativos em algumas previsões, possivelmente devido a outliers ou outros fatores não capturados pelo modelo.\n",
    "\n",
    "**Fatores Não Considerados**:\n",
    "   Variáveis como `idade`, `escolaridade` ou outros fatores podem influenciar o salário e não foram incluídas no modelo. Isso pode limitar a capacidade preditiva da variável `experiencia`.\n",
    "\n",
    "### Conclusão:\n",
    "A variável **`experiencia`** é um bom preditor do `salario`, mas não é suficiente para capturar toda a complexidade da relação. Para melhorar o modelo, seria interessante incluir outras variáveis explicativas e explorar modelos mais complexos, como a regressão múltipla."
   ]
  },
  {
   "cell_type": "markdown",
   "id": "c8dd5230",
   "metadata": {},
   "source": []
  }
 ],
 "metadata": {
  "kernelspec": {
   "display_name": "base",
   "language": "python",
   "name": "python3"
  },
  "language_info": {
   "codemirror_mode": {
    "name": "ipython",
    "version": 3
   },
   "file_extension": ".py",
   "mimetype": "text/x-python",
   "name": "python",
   "nbconvert_exporter": "python",
   "pygments_lexer": "ipython3",
   "version": "3.12.4"
  }
 },
 "nbformat": 4,
 "nbformat_minor": 5
}
